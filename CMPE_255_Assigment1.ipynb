{
  "nbformat": 4,
  "nbformat_minor": 0,
  "metadata": {
    "colab": {
      "provenance": [],
      "authorship_tag": "ABX9TyNlZD6Mrn9c3dIm46KTq2mc",
      "include_colab_link": true
    },
    "kernelspec": {
      "name": "python3",
      "display_name": "Python 3"
    },
    "language_info": {
      "name": "python"
    }
  },
  "cells": [
    {
      "cell_type": "markdown",
      "metadata": {
        "id": "view-in-github",
        "colab_type": "text"
      },
      "source": [
        "<a href=\"https://colab.research.google.com/github/ChintPatel/CMPE255/blob/main/CMPE_255_Assigment1.ipynb\" target=\"_parent\"><img src=\"https://colab.research.google.com/assets/colab-badge.svg\" alt=\"Open In Colab\"/></a>"
      ]
    },
    {
      "cell_type": "code",
      "source": [
        "import random\n",
        "import sys\n",
        "import os"
      ],
      "metadata": {
        "id": "whR2LVZrcoNK"
      },
      "execution_count": 3,
      "outputs": []
    },
    {
      "cell_type": "markdown",
      "source": [
        "#Variables"
      ],
      "metadata": {
        "id": "klIggPB5f8i3"
      }
    },
    {
      "cell_type": "code",
      "source": [
        "print(\"Hello World\")\n",
        "name = \"Derek\"\n",
        "print(name)\n",
        "name = 15\n",
        "\n",
        "print(\"5 + 2 =\", 5 + 2)\n",
        "print(\"5 - 2 =\", 5 - 2)\n",
        "print(\"5 * 2 =\", 5 * 2)\n",
        "print(\"5 / 2 =\", 5 / 2)\n",
        "print(\"5 % 2 =\", 5 % 2)\n",
        "print(\"5 ** 2 =\", 5 ** 2)\n",
        "print(\"5 // 2 =\", 5 // 2)\n",
        "\n",
        "quote = \"\\\"Always remember your unique\"\n",
        "\n",
        "multi_line_quote = ''' just\n",
        "like everyone else\"'''\n",
        "\n",
        "print(\"%s %s %s\" %('I like the quote', quote, multi_line_quote))\n",
        "\n",
        "\n",
        "print('\\n' * 5)\n",
        "\n",
        "print(\"I don't like \", end=\"\")\n",
        "print(\"newlines\")"
      ],
      "metadata": {
        "colab": {
          "base_uri": "https://localhost:8080/"
        },
        "id": "BcfTcj1Vf-kO",
        "outputId": "81ba0ead-c4eb-4d56-a748-e8f0f109e0a1"
      },
      "execution_count": 19,
      "outputs": [
        {
          "output_type": "stream",
          "name": "stdout",
          "text": [
            "Hello World\n",
            "Derek\n",
            "5 + 2 = 7\n",
            "5 - 2 = 3\n",
            "5 * 2 = 10\n",
            "5 / 2 = 2.5\n",
            "5 % 2 = 1\n",
            "5 ** 2 = 25\n",
            "5 // 2 = 2\n",
            "I like the quote \"Always remember your unique  just\n",
            "like everyone else\"\n",
            "\n",
            "\n",
            "\n",
            "\n",
            "\n",
            "\n",
            "I don't like newlines\n"
          ]
        }
      ]
    },
    {
      "cell_type": "code",
      "source": [
        "#Lists"
      ],
      "metadata": {
        "id": "VT4XT3ByiWbr"
      },
      "execution_count": null,
      "outputs": []
    },
    {
      "cell_type": "code",
      "source": [
        "grocery_list = ['Juice', 'Tomatoes', 'Potatoes', 'Bananas']\n",
        "\n",
        "print('The first item is', grocery_list[0])\n",
        "\n",
        "grocery_list[0] = 'Green Juice'\n",
        "print(grocery_list[1:3])\n",
        "\n",
        "other_events = ['Wash Car', 'Pick Up Kids', 'Cash Check']\n",
        "\n",
        "to_do_list = [other_events, grocery_list]\n",
        "print(to_do_list)\n",
        "\n",
        "print((to_do_list[1][1]))\n",
        "\n",
        "grocery_list.append('Onions')\n",
        "print(to_do_list)\n",
        "\n",
        "grocery_list.insert(1, \"Pickle\")\n",
        "grocery_list.remove(\"Pickle\")\n",
        "grocery_list.sort()\n",
        "grocery_list.reverse()\n",
        "\n",
        "del grocery_list[4]\n",
        "print(to_do_list)\n",
        "\n",
        "to_do_list2 = other_events + grocery_list\n",
        "\n",
        "print(len(to_do_list2))\n",
        "print(max(to_do_list2))\n",
        "print(min(to_do_list2))"
      ],
      "metadata": {
        "colab": {
          "base_uri": "https://localhost:8080/"
        },
        "id": "I49Jpu1giZPa",
        "outputId": "ffcde674-3167-4ad9-b3d4-c19ff15c7b24"
      },
      "execution_count": 20,
      "outputs": [
        {
          "output_type": "stream",
          "name": "stdout",
          "text": [
            "The first item is Juice\n",
            "['Tomatoes', 'Potatoes']\n",
            "[['Wash Car', 'Pick Up Kids', 'Cash Check'], ['Green Juice', 'Tomatoes', 'Potatoes', 'Bananas']]\n",
            "Tomatoes\n",
            "[['Wash Car', 'Pick Up Kids', 'Cash Check'], ['Green Juice', 'Tomatoes', 'Potatoes', 'Bananas', 'Onions']]\n",
            "[['Wash Car', 'Pick Up Kids', 'Cash Check'], ['Tomatoes', 'Potatoes', 'Onions', 'Green Juice']]\n",
            "7\n",
            "Wash Car\n",
            "Cash Check\n"
          ]
        }
      ]
    },
    {
      "cell_type": "markdown",
      "source": [
        "#Tuples"
      ],
      "metadata": {
        "id": "I3SPlP2xj7Uo"
      }
    },
    {
      "cell_type": "code",
      "source": [
        "pi_tuple = (3,1,4,1,5,9)\n",
        "\n",
        "new_tuple = list(pi_tuple)\n",
        "new_list = tuple(new_tuple)\n",
        "\n",
        "len(new_tuple)\n",
        "max(new_tuple)\n",
        "min(new_tuple)"
      ],
      "metadata": {
        "colab": {
          "base_uri": "https://localhost:8080/"
        },
        "id": "mC5D8Jltj9Sm",
        "outputId": "6aa548ee-801d-4576-8371-4b17f3fac575"
      },
      "execution_count": 21,
      "outputs": [
        {
          "output_type": "execute_result",
          "data": {
            "text/plain": [
              "1"
            ]
          },
          "metadata": {},
          "execution_count": 21
        }
      ]
    },
    {
      "cell_type": "markdown",
      "source": [
        "#Dictionary"
      ],
      "metadata": {
        "id": "QSrN6iXlkG2_"
      }
    },
    {
      "cell_type": "code",
      "source": [
        "super_villans = {'Fiddler' : 'Isaac Bowin',\n",
        "                 'Captain Cold' : 'Leonard Snart',\n",
        "                 'Weather Wizard' : 'Mark Mardon',\n",
        "                 'Mirror Master' : 'Sam Scudder',\n",
        "                 'Pied Piper' : 'Thomas Peterson'}\n",
        "\n",
        "print(super_villans['Captain Cold'])\n",
        "\n",
        "del super_villans['Fiddler']\n",
        "\n",
        "super_villans['Pied Piper'] = 'Hartley Rathaway'\n",
        "print(len(super_villans))\n",
        "print(super_villans.get(\"Pied Piper\"))\n",
        "print(super_villans.keys())\n",
        "print(super_villans.values())\n",
        ""
      ],
      "metadata": {
        "colab": {
          "base_uri": "https://localhost:8080/"
        },
        "id": "X-ChLGYbkJiL",
        "outputId": "f7048505-1672-4b7a-8a4b-aed744e3fbb6"
      },
      "execution_count": 22,
      "outputs": [
        {
          "output_type": "stream",
          "name": "stdout",
          "text": [
            "Leonard Snart\n",
            "4\n",
            "Hartley Rathaway\n",
            "dict_keys(['Captain Cold', 'Weather Wizard', 'Mirror Master', 'Pied Piper'])\n",
            "dict_values(['Leonard Snart', 'Mark Mardon', 'Sam Scudder', 'Hartley Rathaway'])\n"
          ]
        }
      ]
    },
    {
      "cell_type": "markdown",
      "source": [
        "#Conditionals\n"
      ],
      "metadata": {
        "id": "zUCz2k3BaBQH"
      }
    },
    {
      "cell_type": "code",
      "execution_count": 1,
      "metadata": {
        "colab": {
          "base_uri": "https://localhost:8080/"
        },
        "id": "kCJJCRXEZg2l",
        "outputId": "e8063e61-0eec-4f3d-861b-03064aa8f0d0"
      },
      "outputs": [
        {
          "output_type": "stream",
          "name": "stdout",
          "text": [
            "You are old enough to drive\n",
            "You are old enough to drive a tractor trailer\n",
            "You get a birthday\n"
          ]
        }
      ],
      "source": [
        "age = 21\n",
        "\n",
        "if age > 16:\n",
        "  print(\"You are old enough to drive\")\n",
        "else :\n",
        "  print(\"You are not old enough to drive\")\n",
        "\n",
        "if age >= 21:\n",
        "  print(\"You are old enough to drive a tractor trailer\")\n",
        "elif age >=16:\n",
        "  print(\"You are old enough to drive a car\")\n",
        "else:\n",
        "  print(\"You are not old enough to drive\")\n",
        "\n",
        "if ( age>=1 and age<=18):\n",
        "  print(\"You get a birthday\")\n",
        "elif (age==21 or age>=65):\n",
        "  print(\"You get a birthday\")\n",
        "elif not (age==30):\n",
        "  print(\"You don't get a birthday\")\n",
        "else:\n",
        "  print(\"You get a birthday party\")"
      ]
    },
    {
      "cell_type": "markdown",
      "source": [
        "#Looping"
      ],
      "metadata": {
        "id": "ShF3trgnbrAl"
      }
    },
    {
      "cell_type": "code",
      "source": [
        "for x in range(0,10):\n",
        "  print(x, ' ', end=\"\")\n",
        "\n",
        "print('\\n')\n",
        "\n",
        "grocery_list = ['Juice', 'Tomatoes', 'Potatoes', 'Bananas']\n",
        "\n",
        "for y in grocery_list:\n",
        "  print(y)\n",
        "\n",
        "for x in [2,4,6,8,10]:\n",
        "  print(x)\n",
        "\n",
        "num_list = [[1,2,3], [10,20,30], [100,200,300]]\n",
        "\n",
        "for x in range(0,3):\n",
        "  for y in range(0,3):\n",
        "    print(num_list[x][y])\n"
      ],
      "metadata": {
        "colab": {
          "base_uri": "https://localhost:8080/"
        },
        "id": "qcUs-QtVbpx6",
        "outputId": "c9aa8d4c-953d-4d65-bfd8-7502721c3d44"
      },
      "execution_count": 2,
      "outputs": [
        {
          "output_type": "stream",
          "name": "stdout",
          "text": [
            "0  1  2  3  4  5  6  7  8  9  \n",
            "\n",
            "Juice\n",
            "Tomatoes\n",
            "Potatoes\n",
            "Bananas\n",
            "2\n",
            "4\n",
            "6\n",
            "8\n",
            "10\n",
            "1\n",
            "2\n",
            "3\n",
            "10\n",
            "20\n",
            "30\n",
            "100\n",
            "200\n",
            "300\n"
          ]
        }
      ]
    },
    {
      "cell_type": "markdown",
      "source": [
        "#While Loop"
      ],
      "metadata": {
        "id": "e55pTKMIcggk"
      }
    },
    {
      "cell_type": "code",
      "source": [
        "random_num = random.randrange(0,10)\n",
        "\n",
        "while(random_num != 5):\n",
        "  print(random_num)\n",
        "  random_num = random.randrange(0,10)\n",
        "\n",
        "print(\"\\nInto the while loop:\")\n",
        "i = 0\n",
        "\n",
        "while (i<=20):\n",
        "  if(i%2 == 0):\n",
        "    print(i)\n",
        "  elif(i==9):\n",
        "    break\n",
        "  else:\n",
        "    i+=1\n",
        "    continue\n",
        "\n",
        "  i+=1\n",
        "\n"
      ],
      "metadata": {
        "colab": {
          "base_uri": "https://localhost:8080/"
        },
        "id": "8UNoLPCAciy2",
        "outputId": "1ddd78d1-289b-4333-c439-526099d2a845"
      },
      "execution_count": 12,
      "outputs": [
        {
          "output_type": "stream",
          "name": "stdout",
          "text": [
            "0\n",
            "8\n",
            "2\n",
            "8\n",
            "8\n",
            "6\n",
            "\n",
            "Into the while loop:\n",
            "0\n",
            "2\n",
            "4\n",
            "6\n",
            "8\n"
          ]
        }
      ]
    },
    {
      "cell_type": "markdown",
      "source": [
        "#Function"
      ],
      "metadata": {
        "id": "9pymgB9Bd361"
      }
    },
    {
      "cell_type": "code",
      "source": [
        "def addNumber(fNum, lNum):\n",
        "  sumNum = fNum + lNum\n",
        "  return sumNum\n",
        "\n",
        "print(addNumber(1,4))"
      ],
      "metadata": {
        "colab": {
          "base_uri": "https://localhost:8080/"
        },
        "id": "XMq6gOkxd56-",
        "outputId": "22a2ee11-89ed-448d-e874-c6d987455e87"
      },
      "execution_count": 13,
      "outputs": [
        {
          "output_type": "stream",
          "name": "stdout",
          "text": [
            "5\n"
          ]
        }
      ]
    },
    {
      "cell_type": "markdown",
      "source": [
        "#String Input\n"
      ],
      "metadata": {
        "id": "p2yF9ccYeFZJ"
      }
    },
    {
      "cell_type": "code",
      "source": [
        "long_string = \"I'll catch you if you fall - The Floor\"\n",
        "\n",
        "print(long_string.capitalize())\n",
        "\n",
        "print(long_string.find(\"Floor\"))\n",
        "\n",
        "print(long_string.isalpha())\n",
        "\n",
        "print(long_string.isalnum())\n",
        "\n",
        "print(len(long_string))\n",
        "\n",
        "print(long_string.replace(\"Floor\", \"Ground\"))\n",
        "\n",
        "print(long_string.strip())\n",
        "\n",
        "quote_list = long_string.split(\" \")\n",
        "print(quote_list)\n"
      ],
      "metadata": {
        "colab": {
          "base_uri": "https://localhost:8080/"
        },
        "id": "rEwNgv3Teys4",
        "outputId": "96189083-0aa1-4227-a608-2507b07d5eb0"
      },
      "execution_count": 16,
      "outputs": [
        {
          "output_type": "stream",
          "name": "stdout",
          "text": [
            "I'll catch you if you fall - the floor\n",
            "33\n",
            "False\n",
            "False\n",
            "38\n",
            "I'll catch you if you fall - The Ground\n",
            "I'll catch you if you fall - The Floor\n",
            "[\"I'll\", 'catch', 'you', 'if', 'you', 'fall', '-', 'The', 'Floor']\n"
          ]
        }
      ]
    },
    {
      "cell_type": "markdown",
      "source": [
        "#File IO\n"
      ],
      "metadata": {
        "id": "MA9xDtC7r483"
      }
    },
    {
      "cell_type": "code",
      "source": [
        "test_file = open(\"test.txt\", \"wb\")\n",
        "\n",
        "print(test_file.mode)\n",
        "\n",
        "print(test_file.name)\n",
        "\n",
        "test_file.write(bytes(\"Write me to the file\\n\", 'UTF-8'))\n",
        "\n",
        "test_file.close()\n",
        "\n",
        "test_file = open(\"test.txt\", \"r+\")\n",
        "\n",
        "text_in_file = test_file.read()\n",
        "print(text_in_file)\n",
        "\n",
        "test_file.close()\n",
        "\n",
        "os.remove(\"test.txt\")"
      ],
      "metadata": {
        "colab": {
          "base_uri": "https://localhost:8080/"
        },
        "id": "7xh3wp70r7hv",
        "outputId": "e8aa7703-2dd1-4477-8665-bd33cd8afc61"
      },
      "execution_count": 23,
      "outputs": [
        {
          "output_type": "stream",
          "name": "stdout",
          "text": [
            "wb\n",
            "test.txt\n",
            "Write me to the file\n",
            "\n"
          ]
        }
      ]
    },
    {
      "cell_type": "markdown",
      "source": [
        "#Objects"
      ],
      "metadata": {
        "id": "4uKJTR0QsSlY"
      }
    },
    {
      "cell_type": "code",
      "source": [
        "class Animal:\n",
        "  __name = \"\"\n",
        "  __height = 0\n",
        "  __weight = 0\n",
        "  __sound = 0\n",
        "\n",
        "  def __init__(self, name, height, weight, sound):\n",
        "    self.__name = name\n",
        "    self.__height = height\n",
        "    self.__weight = weight\n",
        "    self.__sound = sound\n",
        "\n",
        "  def set_name(self, name):\n",
        "    self.__name = name\n",
        "\n",
        "  def get_name(self):\n",
        "    return self.__name\n",
        "\n",
        "  def set_height(self, height):\n",
        "    self.__height = height\n",
        "\n",
        "  def get_height(self):\n",
        "    return self.__height\n",
        "\n",
        "  def set_weight(self, weight):\n",
        "    self.__weight = weight\n",
        "\n",
        "  def get_weight(self):\n",
        "    return self.__weight\n",
        "\n",
        "  def set_sound(self, sound):\n",
        "    self.__sound = sound\n",
        "\n",
        "  def get_sound(self):\n",
        "    return self.__sound\n",
        "\n",
        "  def get_type(self):\n",
        "    print(\"Animal\")\n",
        "\n",
        "  def toString(self):\n",
        "    return \"{} is {} cm tall and {} kilograms and say {}\".format(self.__name, self.__height, self.__weight, self.__sound)\n",
        "\n",
        "\n",
        "\n",
        "cat = Animal('Whiskers', 33, 10, 'Meow')\n",
        "print(cat.toString())\n",
        "\n",
        "class Dog(Animal):\n",
        "  __owner = \"\"\n",
        "\n",
        "  def __init__(self, name, height, weight, sound, owner):\n",
        "    self.__owner = owner\n",
        "    super(Dog, self).__init__(name, height, weight, sound)\n",
        "\n",
        "  def set_owner(self, owner):\n",
        "    self.__owner = owner\n",
        "\n",
        "  def get_owner(self):\n",
        "    return self.__owner\n",
        "\n",
        "  def get_type(self):\n",
        "    print(\"Dog\")\n",
        "\n",
        "  def toString(self):\n",
        "    return \"{} is {} cm tall and {} kilograms and say {} His owner is {}\".format(self.get_name(), self.get_height(), self.get_weight(), self.get_sound(), self.__owner)\n",
        "\n",
        "\n",
        "  def multiple_sounds(self, how_many=None):\n",
        "    if how_many is None:\n",
        "      print(self.get_sound())\n",
        "    else:\n",
        "      print(self.get_sound() * how_many)\n",
        "\n",
        "spot = Dog(\"Spot\", 53, 27, \"Ruff\", \"Derek\")\n",
        "print(spot.toString())\n",
        "\n",
        "class AnimalTesting:\n",
        "  def get_type(self, animal):\n",
        "    animal.get_type()\n",
        "\n",
        "test_animals = AnimalTesting()\n",
        "\n",
        "test_animals.get_type(cat)\n",
        "test_animals.get_type(spot)\n",
        "\n",
        "spot.multiple_sounds(4)\n",
        "spot.multiple_sounds()"
      ],
      "metadata": {
        "colab": {
          "base_uri": "https://localhost:8080/"
        },
        "id": "pbSQgEpKtQV9",
        "outputId": "e7fe847d-f986-437c-8766-031a0f9f1764"
      },
      "execution_count": 29,
      "outputs": [
        {
          "output_type": "stream",
          "name": "stdout",
          "text": [
            "Whiskers is 33 cm tall and 10 kilograms and say Meow\n",
            "Spot is 53 cm tall and 27 kilograms and say Ruff His owner is Derek\n",
            "Animal\n",
            "Dog\n",
            "RuffRuffRuffRuff\n",
            "Ruff\n"
          ]
        }
      ]
    }
  ]
}